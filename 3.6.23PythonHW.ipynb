{
 "cells": [
  {
   "cell_type": "markdown",
   "id": "907799df",
   "metadata": {},
   "source": [
    "Exercise #1\n",
    "Filter out all of the empty strings from the list below\n",
    "\n",
    "Output: ['Argentina', 'San Diego', 'Boston', 'New York']"
   ]
  },
  {
   "cell_type": "code",
   "execution_count": 1,
   "id": "bd05cac8",
   "metadata": {},
   "outputs": [],
   "source": []
  },
  {
   "cell_type": "code",
   "execution_count": 11,
   "id": "0fa5e2d9",
   "metadata": {},
   "outputs": [
    {
     "data": {
      "text/plain": [
       "['Argentina', 'San Diego', 'Boston', 'New York']"
      ]
     },
     "execution_count": 11,
     "metadata": {},
     "output_type": "execute_result"
    }
   ],
   "source": [
    "places = [\" \",\"Argentina\", \" \", \"San Diego\",\"\",\"  \",\"\",\"Boston\",\"New York\"]\n",
    "list(filter(lambda x: x.strip(), places))"
   ]
  },
  {
   "cell_type": "code",
   "execution_count": null,
   "id": "c2ce96de",
   "metadata": {},
   "outputs": [],
   "source": []
  },
  {
   "cell_type": "markdown",
   "id": "bc3627ce",
   "metadata": {},
   "source": [
    "Exercise #2\n",
    "Write an anonymous function that sorts this list by the last name...\n",
    "Hint: Use the \".sort()\" method and access the key\"\n",
    "\n",
    "Output: ['Victor aNisimov', 'Gary A.J. Bernstein', 'Joel Carter', 'Andrew P. Garfield', 'David hassELHOFF']"
   ]
  },
  {
   "cell_type": "code",
   "execution_count": null,
   "id": "ccc85301",
   "metadata": {},
   "outputs": [],
   "source": [
    "author = [\"Joel Carter\", \"Victor aNisimov\", \"Andrew P. Garfield\",\"David hassELHOFF\",\"Gary A.J. Bernstein\"]"
   ]
  },
  {
   "cell_type": "code",
   "execution_count": 162,
   "id": "69ac620e",
   "metadata": {},
   "outputs": [
    {
     "name": "stdout",
     "output_type": "stream",
     "text": [
      "['Victor aNisimov', 'Gary A.J. Bernstein', 'Joel Carter', 'Andrew P. Garfield', 'David hassELHOFF']\n"
     ]
    }
   ],
   "source": [
    "author = [\"Joel Carter\", \"Victor aNisimov\", \"Andrew P. Garfield\",\"David hassELHOFF\",\"Gary A.J. Bernstein\"]\n",
    "\n",
    "f = (lambda x : x.lower().split()[-1])\n",
    "\n",
    "print(sorted(author,key = f))\n"
   ]
  },
  {
   "cell_type": "markdown",
   "id": "3231291b",
   "metadata": {},
   "source": [
    "Exercise #3\n",
    "¶\n",
    "Convert the list below from Celsius to Farhenheit, using the map function with a lambda...\n",
    "\n",
    "Output: [('Nashua', 89.6), ('Boston', 53.6), ('Los Angelos', 111.2), ('Miami', 84.2)]\n",
    "\n",
    "F = (9/5)*C + 32"
   ]
  },
  {
   "cell_type": "code",
   "execution_count": 2,
   "id": "5e5f714e",
   "metadata": {},
   "outputs": [],
   "source": []
  },
  {
   "cell_type": "code",
   "execution_count": 95,
   "id": "5852492c",
   "metadata": {},
   "outputs": [
    {
     "data": {
      "text/plain": [
       "[89.6, 53.6, 111.2, 84.2]"
      ]
     },
     "execution_count": 95,
     "metadata": {},
     "output_type": "execute_result"
    }
   ],
   "source": [
    "places = [('Nashua',32),(\"Boston\",12),(\"Los Angeles\",44),(\"Miami\",29)]\n",
    "\n",
    "list(map((lambda x: (9/5)*x[1] + 32),places))"
   ]
  },
  {
   "cell_type": "code",
   "execution_count": 86,
   "id": "0e47a393",
   "metadata": {
    "collapsed": true
   },
   "outputs": [
    {
     "data": {
      "text/plain": [
       "tuple"
      ]
     },
     "execution_count": 86,
     "metadata": {},
     "output_type": "execute_result"
    }
   ],
   "source": []
  },
  {
   "cell_type": "markdown",
   "id": "6aa50a6e",
   "metadata": {},
   "source": [
    "Exercise #4\n",
    "Write a recursion function to perform the fibonacci sequence up to the number passed in.\n",
    "\n",
    "Output for fib(5) => \n",
    "Iteration 0: 1\n",
    "Iteration 1: 1\n",
    "Iteration 2: 2\n",
    "Iteration 3: 3\n",
    "Iteration 4: 5\n",
    "Iteration 5: 8"
   ]
  },
  {
   "cell_type": "code",
   "execution_count": 163,
   "id": "f1160b18",
   "metadata": {},
   "outputs": [],
   "source": [
    "def fibbo(n):\n",
    "    while n < 2:\n",
    "        return n\n",
    "    else:\n",
    "        return((n-1)+(n-2))"
   ]
  },
  {
   "cell_type": "code",
   "execution_count": 164,
   "id": "f656d3fc",
   "metadata": {},
   "outputs": [],
   "source": [
    "def fib(n):\n",
    "    while n < 2:\n",
    "        return n\n",
    "    else:\n",
    "        return fib(n-1) + fib(n-2)"
   ]
  },
  {
   "cell_type": "markdown",
   "id": "8a1f10a8",
   "metadata": {},
   "source": [
    "create a generator that takes a number argument and yields that number squared then prints each number squared until zero is reached"
   ]
  },
  {
   "cell_type": "code",
   "execution_count": 158,
   "id": "1506ec03",
   "metadata": {},
   "outputs": [],
   "source": [
    "def mygen(n):\n",
    "    \n",
    "    while n>0:\n",
    "        \n",
    "        yield n**2\n",
    "        n -= 1\n",
    "        "
   ]
  },
  {
   "cell_type": "code",
   "execution_count": 159,
   "id": "934bdff8",
   "metadata": {},
   "outputs": [],
   "source": [
    "gen = mygen(10)\n"
   ]
  },
  {
   "cell_type": "code",
   "execution_count": 161,
   "id": "b51ce7f6",
   "metadata": {},
   "outputs": [
    {
     "data": {
      "text/plain": [
       "81"
      ]
     },
     "execution_count": 161,
     "metadata": {},
     "output_type": "execute_result"
    }
   ],
   "source": [
    "next(gen)"
   ]
  },
  {
   "cell_type": "code",
   "execution_count": null,
   "id": "43a4329d",
   "metadata": {},
   "outputs": [],
   "source": []
  }
 ],
 "metadata": {
  "kernelspec": {
   "display_name": "Python 3 (ipykernel)",
   "language": "python",
   "name": "python3"
  },
  "language_info": {
   "codemirror_mode": {
    "name": "ipython",
    "version": 3
   },
   "file_extension": ".py",
   "mimetype": "text/x-python",
   "name": "python",
   "nbconvert_exporter": "python",
   "pygments_lexer": "ipython3",
   "version": "3.9.13"
  }
 },
 "nbformat": 4,
 "nbformat_minor": 5
}
